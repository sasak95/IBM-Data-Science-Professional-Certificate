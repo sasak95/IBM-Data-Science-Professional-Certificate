{
 "cells": [
  {
   "cell_type": "markdown",
   "id": "1b6992fa-a166-4183-8373-18bd94fc0af6",
   "metadata": {},
   "source": [
    "# Data Science Tools and Ecosystem"
   ]
  },
  {
   "cell_type": "markdown",
   "id": "6e8f1bea-9bb3-4299-9131-c28328f4ce5b",
   "metadata": {},
   "source": [
    "In this notebook, Data Science Tools and Ecosystem are summarized."
   ]
  },
  {
   "cell_type": "markdown",
   "id": "6cc320b2-4ecf-404a-9e9f-f8b920dbfbc1",
   "metadata": {},
   "source": [
    "**Objectives:**\n",
    "- Create a Jupyter Notebook with markdown and code cells\n",
    "- List examples of languages, libraries and tools used in Data Science\n",
    "- Share your Jupyter Notebook publicly on GitHub"
   ]
  },
  {
   "cell_type": "markdown",
   "id": "93d8c136-4632-4c37-9495-719fc4d99349",
   "metadata": {},
   "source": [
    "Some of the popular languages that Data Scientists use are:\n",
    "1. Python\n",
    "2. R\n",
    "3. SQL\n",
    "4. C/C++\n",
    "5. Java"
   ]
  },
  {
   "cell_type": "markdown",
   "id": "7a92ee9b-b3e9-43db-94ee-3e24df910584",
   "metadata": {},
   "source": [
    "Some of the commonly used libraries used by Data Scientists include:\n",
    "1. NumPy\n",
    "2. pandas\n",
    "3. Matplotlib\n",
    "4. Plotly\n",
    "5. Seaborn\n",
    "6. TensorFlow\n",
    "7. PyTorch"
   ]
  },
  {
   "cell_type": "markdown",
   "id": "77b580da-9c9d-4691-84f3-17dd366647b8",
   "metadata": {},
   "source": [
    "|Data Science Tools|\n",
    "|------------------|\n",
    "|VS Code|\n",
    "|R Studio|\n",
    "|Jupyter notebook|"
   ]
  },
  {
   "cell_type": "markdown",
   "id": "f34dc140-c45c-42fd-811d-5dd72c2fff4d",
   "metadata": {},
   "source": [
    "### Below are a few examples of evaluating arithmetic expressions in Python."
   ]
  },
  {
   "cell_type": "code",
   "execution_count": 2,
   "id": "4f631289-31b8-4d4e-b701-0c8ccf365fe8",
   "metadata": {},
   "outputs": [
    {
     "data": {
      "text/plain": [
       "17"
      ]
     },
     "execution_count": 2,
     "metadata": {},
     "output_type": "execute_result"
    }
   ],
   "source": [
    "# This a simple arithmetic expression to mutiply then add integers.\n",
    "(3*4)+5 "
   ]
  },
  {
   "cell_type": "code",
   "execution_count": 3,
   "id": "e0278249-e7fc-4a1a-992f-018dbb366f9b",
   "metadata": {},
   "outputs": [
    {
     "data": {
      "text/plain": [
       "3.3333333333333335"
      ]
     },
     "execution_count": 3,
     "metadata": {},
     "output_type": "execute_result"
    }
   ],
   "source": [
    "# This will convert 200 minutes to hours by diving by 60.\n",
    "200/60"
   ]
  },
  {
   "cell_type": "markdown",
   "id": "29ef5831-40ba-4838-91e4-74f8f53eb3ea",
   "metadata": {},
   "source": [
    "## Author\n",
    "Saad Abdel Karim"
   ]
  },
  {
   "cell_type": "code",
   "execution_count": null,
   "id": "6e49b227-5194-4a76-975d-8f3e3e2b958d",
   "metadata": {},
   "outputs": [],
   "source": []
  }
 ],
 "metadata": {
  "kernelspec": {
   "display_name": "Python 3 (ipykernel)",
   "language": "python",
   "name": "python3"
  },
  "language_info": {
   "codemirror_mode": {
    "name": "ipython",
    "version": 3
   },
   "file_extension": ".py",
   "mimetype": "text/x-python",
   "name": "python",
   "nbconvert_exporter": "python",
   "pygments_lexer": "ipython3",
   "version": "3.12.11"
  }
 },
 "nbformat": 4,
 "nbformat_minor": 5
}
